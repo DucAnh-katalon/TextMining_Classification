{
 "cells": [
  {
   "cell_type": "code",
   "execution_count": 60,
   "metadata": {},
   "outputs": [
    {
     "name": "stderr",
     "output_type": "stream",
     "text": [
      "/home/ubuntu/anaconda3/envs/atg/lib/python3.11/site-packages/tqdm/auto.py:22: TqdmWarning: IProgress not found. Please update jupyter and ipywidgets. See https://ipywidgets.readthedocs.io/en/stable/user_install.html\n",
      "  from .autonotebook import tqdm as notebook_tqdm\n"
     ]
    },
    {
     "name": "stdout",
     "output_type": "stream",
     "text": [
      "2023-08-15 15:37:55 INFO  WordSegmenter:24 - Loading Word Segmentation model\n"
     ]
    }
   ],
   "source": [
    "import torch\n",
    "import numpy as np\n",
    "import pandas as pd\n",
    "import seaborn as sns\n",
    "import matplotlib.pyplot as plt\n",
    "from pathlib import Path\n",
    "\n",
    "from gensim.utils import simple_preprocess\n",
    "from sklearn.model_selection import StratifiedKFold\n",
    "from sklearn.metrics import classification_report, confusion_matrix\n",
    "from tqdm import tqdm\n",
    "import torch.nn as nn\n",
    "from torch.optim import AdamW\n",
    "from torch.utils.data import Dataset, DataLoader\n",
    "\n",
    "from transformers import get_linear_schedule_with_warmup, AutoTokenizer, AutoModel, logging\n",
    "\n",
    "import warnings\n",
    "warnings.filterwarnings(\"ignore\")\n",
    "\n",
    "logging.set_verbosity_error()\n",
    "# read data ignore last col\n",
    "import py_vncorenlp\n",
    "import os\n",
    "def seed_everything(seed_value):\n",
    "    np.random.seed(seed_value)\n",
    "    torch.manual_seed(seed_value)\n",
    "    \n",
    "    if torch.cuda.is_available(): \n",
    "        torch.cuda.manual_seed(seed_value)\n",
    "        torch.cuda.manual_seed_all(seed_value)\n",
    "        torch.backends.cudnn.deterministic = True\n",
    "        torch.backends.cudnn.benchmark = True\n",
    "\n",
    "\n",
    "\n",
    "if 'pwd' not in locals():\n",
    "    from transformers import PhobertTokenizer, AutoModel\n",
    "    from transformers import DataCollatorForTokenClassification\n",
    "    pwd = Path(os.getcwd())\n",
    "    save_dir = pwd / 'models'\n",
    "    rdrsegmenter = py_vncorenlp.VnCoreNLP(annotators=[\"wseg\"], save_dir=str(save_dir))\n",
    "    os.chdir(pwd)\n",
    "    seed_everything(25)\n",
    "\n",
    "device = torch.device('cuda:0' if torch.cuda.is_available() else 'cpu')\n",
    "EPOCHS = 6\n",
    "N_SPLITS = 5"
   ]
  },
  {
   "cell_type": "code",
   "execution_count": 71,
   "metadata": {},
   "outputs": [
    {
     "data": {
      "text/html": [
       "<div>\n",
       "<style scoped>\n",
       "    .dataframe tbody tr th:only-of-type {\n",
       "        vertical-align: middle;\n",
       "    }\n",
       "\n",
       "    .dataframe tbody tr th {\n",
       "        vertical-align: top;\n",
       "    }\n",
       "\n",
       "    .dataframe thead th {\n",
       "        text-align: right;\n",
       "    }\n",
       "</style>\n",
       "<table border=\"1\" class=\"dataframe\">\n",
       "  <thead>\n",
       "    <tr style=\"text-align: right;\">\n",
       "      <th></th>\n",
       "      <th>comment</th>\n",
       "      <th>label</th>\n",
       "      <th>rate</th>\n",
       "      <th>wseg</th>\n",
       "    </tr>\n",
       "  </thead>\n",
       "  <tbody>\n",
       "    <tr>\n",
       "      <th>6452</th>\n",
       "      <td>Shop phục vụ tốt.</td>\n",
       "      <td>POS</td>\n",
       "      <td>4</td>\n",
       "      <td>shop phục_vụ tốt</td>\n",
       "    </tr>\n",
       "    <tr>\n",
       "      <th>26367</th>\n",
       "      <td>Bé nhỏ cũng có thể dắt xe, nhấc xe lên để chơi.</td>\n",
       "      <td>NEU</td>\n",
       "      <td>3</td>\n",
       "      <td>bé_nhỏ cũng có_thể dắt xe nhấc xe lên để chơi</td>\n",
       "    </tr>\n",
       "    <tr>\n",
       "      <th>29602</th>\n",
       "      <td>Áo không giống hình sản phẩm lỗi lừa đảo.</td>\n",
       "      <td>NEG</td>\n",
       "      <td>1</td>\n",
       "      <td>áo không giống hình sản_phẩm lỗi lừa_đảo</td>\n",
       "    </tr>\n",
       "    <tr>\n",
       "      <th>19747</th>\n",
       "      <td>ba lô phù hợp vs giá tiên, như hình.</td>\n",
       "      <td>NEU</td>\n",
       "      <td>3</td>\n",
       "      <td>ba_lô phù_hợp vs giá tiên như hình</td>\n",
       "    </tr>\n",
       "    <tr>\n",
       "      <th>1432</th>\n",
       "      <td>Rất ok mua hoài vẫn ok.</td>\n",
       "      <td>POS</td>\n",
       "      <td>5</td>\n",
       "      <td>rất ok mua hoài vẫn ok</td>\n",
       "    </tr>\n",
       "    <tr>\n",
       "      <th>445</th>\n",
       "      <td>5 sao nha!</td>\n",
       "      <td>POS</td>\n",
       "      <td>5</td>\n",
       "      <td>sao nha</td>\n",
       "    </tr>\n",
       "    <tr>\n",
       "      <th>19210</th>\n",
       "      <td>Đóng gói sản phẩm rất đẹp và chắc chắn.</td>\n",
       "      <td>POS</td>\n",
       "      <td>5</td>\n",
       "      <td>đóng_gói sản_phẩm rất đẹp và chắc_chắn</td>\n",
       "    </tr>\n",
       "    <tr>\n",
       "      <th>12179</th>\n",
       "      <td>Ưng quá.</td>\n",
       "      <td>POS</td>\n",
       "      <td>5</td>\n",
       "      <td>ưng quá</td>\n",
       "    </tr>\n",
       "    <tr>\n",
       "      <th>11598</th>\n",
       "      <td>Thời gian giao hàng rất nhanh.Hàng ok.</td>\n",
       "      <td>POS</td>\n",
       "      <td>4</td>\n",
       "      <td>thời_gian giao hàng rất nhanh hàng ok</td>\n",
       "    </tr>\n",
       "    <tr>\n",
       "      <th>8113</th>\n",
       "      <td>K biết cái này tác dụng thơm ở đâu.</td>\n",
       "      <td>NEG</td>\n",
       "      <td>1</td>\n",
       "      <td>biết cái này tác_dụng thơm đâu</td>\n",
       "    </tr>\n",
       "  </tbody>\n",
       "</table>\n",
       "</div>"
      ],
      "text/plain": [
       "                                               comment label  rate  \\\n",
       "6452                                 Shop phục vụ tốt.   POS     4   \n",
       "26367  Bé nhỏ cũng có thể dắt xe, nhấc xe lên để chơi.   NEU     3   \n",
       "29602        Áo không giống hình sản phẩm lỗi lừa đảo.   NEG     1   \n",
       "19747             ba lô phù hợp vs giá tiên, như hình.   NEU     3   \n",
       "1432                           Rất ok mua hoài vẫn ok.   POS     5   \n",
       "445                                         5 sao nha!   POS     5   \n",
       "19210          Đóng gói sản phẩm rất đẹp và chắc chắn.   POS     5   \n",
       "12179                                         Ưng quá.   POS     5   \n",
       "11598           Thời gian giao hàng rất nhanh.Hàng ok.   POS     4   \n",
       "8113               K biết cái này tác dụng thơm ở đâu.   NEG     1   \n",
       "\n",
       "                                                wseg  \n",
       "6452                                shop phục_vụ tốt  \n",
       "26367  bé_nhỏ cũng có_thể dắt xe nhấc xe lên để chơi  \n",
       "29602       áo không giống hình sản_phẩm lỗi lừa_đảo  \n",
       "19747             ba_lô phù_hợp vs giá tiên như hình  \n",
       "1432                          rất ok mua hoài vẫn ok  \n",
       "445                                          sao nha  \n",
       "19210         đóng_gói sản_phẩm rất đẹp và chắc_chắn  \n",
       "12179                                        ưng quá  \n",
       "11598          thời_gian giao hàng rất nhanh hàng ok  \n",
       "8113                  biết cái này tác_dụng thơm đâu  "
      ]
     },
     "execution_count": 71,
     "metadata": {},
     "output_type": "execute_result"
    }
   ],
   "source": [
    "data = pd.read_csv('data - data.csv', usecols=range(0, 3))\n",
    "data['wseg'] = data['comment'].apply(lambda x : \" \".join(simple_preprocess(\" \".join(rdrsegmenter.word_segment(x)))))\n",
    "data.sample(10)\n"
   ]
  },
  {
   "cell_type": "code",
   "execution_count": 6,
   "metadata": {},
   "outputs": [
    {
     "data": {
      "text/plain": [
       "<Axes: xlabel='label', ylabel='count'>"
      ]
     },
     "execution_count": 6,
     "metadata": {},
     "output_type": "execute_result"
    },
    {
     "data": {
      "image/png": "[encoded data removed]",
      "text/plain": [
       "<Figure size 640x480 with 1 Axes>"
      ]
     },
     "metadata": {},
     "output_type": "display_data"
    }
   ],
   "source": [
    "sns.countplot(x='label', data=data)"
   ]
  },
  {
   "cell_type": "code",
   "execution_count": 8,
   "metadata": {},
   "outputs": [
    {
     "data": {
      "text/plain": [
       "<Axes: xlabel='rate', ylabel='count'>"
      ]
     },
     "execution_count": 8,
     "metadata": {},
     "output_type": "execute_result"
    },
    {
     "data": {
      "image/png": "[encoded data removed]",
      "text/plain": [
       "<Figure size 640x480 with 1 Axes>"
      ]
     },
     "metadata": {},
     "output_type": "display_data"
    }
   ],
   "source": [
    "sns.countplot(x='rate', data=data)"
   ]
  },
  {
   "cell_type": "code",
   "execution_count": 68,
   "metadata": {},
   "outputs": [],
   "source": [
    "log_svm_path ='log_svm_acc.log'\n",
    "logs = open(log_svm_path).readlines()[1:]\n",
    "results = []\n",
    "for line in logs:\n",
    "    dict_ = {}\n",
    "    for token in ['C','gamma','kernel','score']:\n",
    "        token = token + '='\n",
    "        if token == 'kernel=':\n",
    "            result = line.split(token)[1].split(';')[0]\n",
    "        else:\n",
    "            t = line.split(token)[1]\n",
    "            flag = False\n",
    "            result = ''\n",
    "            for char in t:\n",
    "                if char.isdigit():\n",
    "                    flag = True\n",
    "                if flag:\n",
    "                    if (char == '.') or (char.isdigit()):\n",
    "                        result += char  \n",
    "                    else:\n",
    "                        break\n",
    "            result = float(result)\n",
    "        dict_[token[:-1]] = result\n",
    "    results.append(dict_)"
   ]
  },
  {
   "cell_type": "code",
   "execution_count": 69,
   "metadata": {},
   "outputs": [],
   "source": [
    "import pandas as pd\n",
    "results_df = pd.DataFrame(results)\n",
    "scores_mean = results_df.groupby(['C','gamma','kernel']).mean()\n",
    "scores_std = results_df.groupby(['C','gamma','kernel']).std()\n",
    "scores_mean_dict = dict(scores_mean.score)\n",
    "scores_std_dict = dict(scores_std.score)\n"
   ]
  },
  {
   "cell_type": "code",
   "execution_count": 70,
   "metadata": {},
   "outputs": [
    {
     "data": {
      "image/png": "[encoded data removed]",
      "text/plain": [
       "<Figure size 640x480 with 1 Axes>"
      ]
     },
     "metadata": {},
     "output_type": "display_data"
    }
   ],
   "source": [
    "sorted_ = sorted(scores_mean_dict.items(),key = lambda x: -x[1])\n",
    "Y_axis = [_[1] for _ in sorted_]\n",
    "X_axis = [\",\".join(str(_) for _ in k) for k,v in sorted_]\n",
    "sns.barplot(x= X_axis,y=Y_axis)\n",
    "#rotate x axis\n",
    "plt.xticks(rotation=90);\n"
   ]
  },
  {
   "cell_type": "code",
   "execution_count": 74,
   "metadata": {},
   "outputs": [],
   "source": [
    "from sklearn.model_selection import train_test_split\n",
    "from sklearn import preprocessing\n",
    "from sklearn.feature_extraction.text import TfidfVectorizer\n",
    "\n",
    "\n",
    "vectorizer = TfidfVectorizer(tokenizer = lambda x : x.split(' '))\n",
    "corpus  = data['wseg'].tolist()\n",
    "X = vectorizer.fit_transform(corpus)\n",
    "\n",
    "\n",
    "\n",
    "Y = data['label'].tolist()\n",
    "le = preprocessing.LabelEncoder()\n",
    "le.fit(Y)\n",
    "Y = le.transform(Y)\n",
    "X_train, X_test, y_train, y_test = train_test_split(X, Y, test_size=0.2, random_state=25)"
   ]
  },
  {
   "cell_type": "code",
   "execution_count": 77,
   "metadata": {},
   "outputs": [
    {
     "name": "stdout",
     "output_type": "stream",
     "text": [
      "              precision    recall  f1-score   support\n",
      "\n",
      "         POS       0.66      0.75      0.70      1328\n",
      "         NEU       0.45      0.22      0.30       979\n",
      "         NEG       0.85      0.92      0.88      3985\n",
      "\n",
      "    accuracy                           0.77      6292\n",
      "   macro avg       0.65      0.63      0.63      6292\n",
      "weighted avg       0.75      0.77      0.75      6292\n",
      "\n"
     ]
    }
   ],
   "source": [
    "from sklearn.svm import SVC\n",
    "svm = SVC(C = 10, gamma=0.1, kernel='rbf')\n",
    "svm.fit(X_train, y_train)\n",
    "\n",
    "y_pred = svm.predict(X_test)\n",
    "print(classification_report(y_test, y_pred,  target_names=['POS','NEU','NEG']))"
   ]
  },
  {
   "cell_type": "code",
   "execution_count": null,
   "metadata": {},
   "outputs": [],
   "source": []
  }
 ],
 "metadata": {
  "kernelspec": {
   "display_name": "atg",
   "language": "python",
   "name": "python3"
  },
  "language_info": {
   "codemirror_mode": {
    "name": "ipython",
    "version": 3
   },
   "file_extension": ".py",
   "mimetype": "text/x-python",
   "name": "python",
   "nbconvert_exporter": "python",
   "pygments_lexer": "ipython3",
   "version": "3.11.0"
  },
  "orig_nbformat": 4
 },
 "nbformat": 4,
 "nbformat_minor": 2
}
